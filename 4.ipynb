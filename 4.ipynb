{
  "nbformat": 4,
  "nbformat_minor": 0,
  "metadata": {
    "colab": {
      "name": "4.ipynb",
      "provenance": [],
      "collapsed_sections": [],
      "mount_file_id": "1k4UWbIydNgYsjg2N65nXhqiNvl9RAbdr",
      "authorship_tag": "ABX9TyMAN+znE8B5TNdjqgWNzBEY",
      "include_colab_link": true
    },
    "kernelspec": {
      "name": "python3",
      "display_name": "Python 3"
    },
    "accelerator": "GPU"
  },
  "cells": [
    {
      "cell_type": "markdown",
      "metadata": {
        "id": "view-in-github",
        "colab_type": "text"
      },
      "source": [
        "<a href=\"https://colab.research.google.com/github/TommML/road_sign/blob/master/4.ipynb\" target=\"_parent\"><img src=\"https://colab.research.google.com/assets/colab-badge.svg\" alt=\"Open In Colab\"/></a>"
      ]
    },
    {
      "cell_type": "code",
      "metadata": {
        "id": "SfIZzPJ0AqJA",
        "colab_type": "code",
        "outputId": "0bc0a385-62d8-4fda-b6d0-1b758c3ddedc",
        "colab": {
          "base_uri": "https://localhost:8080/",
          "height": 51
        }
      },
      "source": [
        "import pandas as pd\n",
        "import numpy as np\n",
        "import os\n",
        "import datetime\n",
        "\n",
        "\n",
        "import tensorflow as tf\n",
        "from tensorflow.keras.models import Sequential\n",
        "from tensorflow.keras.layers import Conv2D,MaxPool2D,Dense,Flatten,Dropout\n",
        "from tensorflow.keras.utils import to_categorical\n",
        "import matplotlib.pyplot as plt\n",
        "from skimage import color ,exposure\n",
        "from sklearn.metrics import accuracy_score\n",
        "\n",
        "\n",
        "%load_ext tensorboard"
      ],
      "execution_count": 0,
      "outputs": [
        {
          "output_type": "stream",
          "text": [
            "The tensorboard extension is already loaded. To reload it, use:\n",
            "  %reload_ext tensorboard\n"
          ],
          "name": "stdout"
        }
      ]
    },
    {
      "cell_type": "code",
      "metadata": {
        "id": "0DQyJZBnBTv-",
        "colab_type": "code",
        "outputId": "6fc36701-1e7d-41c0-ad97-b7b57313c6f8",
        "colab": {
          "base_uri": "https://localhost:8080/",
          "height": 34
        }
      },
      "source": [
        "ls"
      ],
      "execution_count": 0,
      "outputs": [
        {
          "output_type": "stream",
          "text": [
            "\u001b[0m\u001b[01;34mdrive\u001b[0m/  \u001b[01;34msample_data\u001b[0m/\n"
          ],
          "name": "stdout"
        }
      ]
    },
    {
      "cell_type": "code",
      "metadata": {
        "id": "87I3Llq1CH7h",
        "colab_type": "code",
        "outputId": "f8313268-8090-4b80-945b-b27d9d289fbb",
        "colab": {
          "base_uri": "https://localhost:8080/",
          "height": 34
        }
      },
      "source": [
        "cd '/content/drive/My Drive/Colab Notebooks/matrix/matrix_three/'"
      ],
      "execution_count": 0,
      "outputs": [
        {
          "output_type": "stream",
          "text": [
            "/content/drive/My Drive/Colab Notebooks/matrix/matrix_three\n"
          ],
          "name": "stdout"
        }
      ]
    },
    {
      "cell_type": "code",
      "metadata": {
        "id": "KLc5qp6uCSYS",
        "colab_type": "code",
        "outputId": "02a3b350-6cba-4aaa-872b-9d54698730ac",
        "colab": {
          "base_uri": "https://localhost:8080/",
          "height": 34
        }
      },
      "source": [
        "ls"
      ],
      "execution_count": 0,
      "outputs": [
        {
          "output_type": "stream",
          "text": [
            "\u001b[0m\u001b[01;34mroad_sign\u001b[0m/\n"
          ],
          "name": "stdout"
        }
      ]
    },
    {
      "cell_type": "code",
      "metadata": {
        "id": "lWTHO7mnCwo8",
        "colab_type": "code",
        "outputId": "c1b8978e-a46c-4125-d667-4bd47a8cbfe4",
        "colab": {
          "base_uri": "https://localhost:8080/",
          "height": 34
        }
      },
      "source": [
        "cd 'road_sign/data'"
      ],
      "execution_count": 0,
      "outputs": [
        {
          "output_type": "stream",
          "text": [
            "/content/drive/My Drive/Colab Notebooks/matrix/matrix_three/road_sign/data\n"
          ],
          "name": "stdout"
        }
      ]
    },
    {
      "cell_type": "code",
      "metadata": {
        "id": "m5iQpd2sC6SW",
        "colab_type": "code",
        "colab": {}
      },
      "source": [
        "train = pd.read_pickle('train.p')"
      ],
      "execution_count": 0,
      "outputs": []
    },
    {
      "cell_type": "code",
      "metadata": {
        "id": "vHsMtlYRDZaT",
        "colab_type": "code",
        "colab": {}
      },
      "source": [
        "test=pd.read_pickle('test.p')\n"
      ],
      "execution_count": 0,
      "outputs": []
    },
    {
      "cell_type": "code",
      "metadata": {
        "id": "BV3RKg8aD2aB",
        "colab_type": "code",
        "colab": {}
      },
      "source": [
        "X_train,y_train=train['features'],train['labels']\n",
        "X_test,y_test=test['features'],test['labels']"
      ],
      "execution_count": 0,
      "outputs": []
    },
    {
      "cell_type": "code",
      "metadata": {
        "id": "7LeFQiH0FGn_",
        "colab_type": "code",
        "colab": {}
      },
      "source": [
        ""
      ],
      "execution_count": 0,
      "outputs": []
    },
    {
      "cell_type": "code",
      "metadata": {
        "id": "ttBon8mlEJ8_",
        "colab_type": "code",
        "colab": {}
      },
      "source": [
        "if y_train.ndim ==1: y_train =to_categorical(y_train)\n",
        "if y_test.ndim ==1: y_test =to_categorical(y_test)"
      ],
      "execution_count": 0,
      "outputs": []
    },
    {
      "cell_type": "code",
      "metadata": {
        "id": "LOTVIIRCFLmN",
        "colab_type": "code",
        "colab": {}
      },
      "source": [
        "input_shape=X_train.shape[1:]\n",
        "num_classes=y_train.shape[1]"
      ],
      "execution_count": 0,
      "outputs": []
    },
    {
      "cell_type": "code",
      "metadata": {
        "id": "_p1jP44kFRFj",
        "colab_type": "code",
        "outputId": "9f48b978-eeae-485a-ecfd-58aeb331efca",
        "colab": {
          "base_uri": "https://localhost:8080/",
          "height": 51
        }
      },
      "source": [
        "model=Sequential([\n",
        "    Conv2D(filters=64,kernel_size=(3,3),activation='relu',input_shape=input_shape),\n",
        "    Flatten(),\n",
        "    Dense(num_classes,activation='softmax'),\n",
        "])\n",
        "\n",
        "model.compile(loss='categorical_crossentropy',optimizer='Adam',metrics=['accuracy'])\n",
        "model.fit(X_train,y_train)"
      ],
      "execution_count": 0,
      "outputs": [
        {
          "output_type": "stream",
          "text": [
            "1088/1088 [==============================] - 3s 3ms/step - loss: 11.1056 - accuracy: 0.7803\n"
          ],
          "name": "stdout"
        },
        {
          "output_type": "execute_result",
          "data": {
            "text/plain": [
              "<tensorflow.python.keras.callbacks.History at 0x7f463054cac8>"
            ]
          },
          "metadata": {
            "tags": []
          },
          "execution_count": 11
        }
      ]
    },
    {
      "cell_type": "code",
      "metadata": {
        "id": "8hSPh3awFm4c",
        "colab_type": "code",
        "colab": {}
      },
      "source": [
        "def get_cnn_v1(input_shape,num_classes):\n",
        "  return Sequential([\n",
        "    Conv2D(filters=64,kernel_size=(3,3),activation='relu',input_shape=input_shape),\n",
        "    Flatten(),\n",
        "    Dense(num_classes,activation='softmax'),\n",
        "])\n",
        "\n",
        "def train_model(model,X_train,y_train,params_fit={}):\n",
        "  model.compile(loss='categorical_crossentropy',optimizer='Adam',metrics=['accuracy'])\n",
        "  model.fit(X_train,y_train) \n",
        "\n",
        "  logdir=os.path.join(\"logs\",datetime.datetime.now().strftime(\"%Y%m%d-%H%M%S\"))\n",
        "  tensorboard_callback=tf.keras.callbacks.TensorBoard(logdir,histogram_freq=1)\n",
        "  model.fit(\n",
        "      X_train,\n",
        "      y_train,\n",
        "      batch_size=params_fit.get('batch_size',128),\n",
        "      epochs=params_fit.get('epochs',5),\n",
        "      verbose=params_fit.get('verbose',1),\n",
        "      validation_data=params_fit.get('validation_data',(X_train,y_train)),\n",
        "      callbacks=[tensorboard_callback]\n",
        "  )  \n",
        "  return model"
      ],
      "execution_count": 0,
      "outputs": []
    },
    {
      "cell_type": "code",
      "metadata": {
        "id": "0R-VbDwTF97q",
        "colab_type": "code",
        "outputId": "9a70c4e8-2ff4-4a23-f812-146340143d20",
        "colab": {
          "base_uri": "https://localhost:8080/",
          "height": 204
        }
      },
      "source": [
        "model=get_cnn_v1(input_shape,num_classes)\n",
        "model_trained=train_model(model,X_train,y_train)"
      ],
      "execution_count": 0,
      "outputs": [
        {
          "output_type": "stream",
          "text": [
            "1088/1088 [==============================] - 3s 3ms/step - loss: 7.2041 - accuracy: 0.7989\n",
            "Epoch 1/5\n",
            "272/272 [==============================] - 3s 10ms/step - loss: 0.1820 - accuracy: 0.9542 - val_loss: 0.1185 - val_accuracy: 0.9727\n",
            "Epoch 2/5\n",
            "272/272 [==============================] - 3s 9ms/step - loss: 0.1113 - accuracy: 0.9719 - val_loss: 0.0787 - val_accuracy: 0.9829\n",
            "Epoch 3/5\n",
            "272/272 [==============================] - 2s 9ms/step - loss: 0.0807 - accuracy: 0.9806 - val_loss: 0.0615 - val_accuracy: 0.9857\n",
            "Epoch 4/5\n",
            "272/272 [==============================] - 2s 9ms/step - loss: 0.0655 - accuracy: 0.9845 - val_loss: 0.0592 - val_accuracy: 0.9843\n",
            "Epoch 5/5\n",
            "272/272 [==============================] - 3s 9ms/step - loss: 0.0599 - accuracy: 0.9854 - val_loss: 0.0533 - val_accuracy: 0.9885\n"
          ],
          "name": "stdout"
        }
      ]
    },
    {
      "cell_type": "code",
      "metadata": {
        "id": "IqTDgDxYGULo",
        "colab_type": "code",
        "outputId": "c2fb81bb-8450-41a0-ac41-848d1b4933cf",
        "colab": {
          "base_uri": "https://localhost:8080/",
          "height": 238
        }
      },
      "source": [
        "y_pred_prob=model_trained.predict(X_test)\n",
        "y_pred_prob"
      ],
      "execution_count": 0,
      "outputs": [
        {
          "output_type": "execute_result",
          "data": {
            "text/plain": [
              "array([[1.6894334e-12, 1.4474126e-05, 8.8190463e-06, ..., 2.6196501e-06,\n",
              "        3.8734477e-04, 2.9841603e-06],\n",
              "       [5.4687525e-11, 4.9308775e-05, 9.3293755e-04, ..., 5.6304976e-05,\n",
              "        1.3986717e-04, 1.9140369e-05],\n",
              "       [1.2819948e-10, 1.5486908e-04, 1.3059058e-04, ..., 1.5607147e-05,\n",
              "        1.1976415e-02, 1.3326888e-04],\n",
              "       ...,\n",
              "       [8.2253367e-03, 8.5839182e-03, 1.0977949e-02, ..., 1.6510547e-03,\n",
              "        9.4957737e-04, 2.2597804e-03],\n",
              "       [4.5624110e-03, 1.0233394e-02, 4.4257361e-03, ..., 1.9660851e-03,\n",
              "        8.1693882e-04, 1.4581062e-03],\n",
              "       [2.8518676e-03, 5.4829121e-03, 3.0552354e-03, ..., 2.5053928e-04,\n",
              "        8.8684057e-04, 1.1477496e-03]], dtype=float32)"
            ]
          },
          "metadata": {
            "tags": []
          },
          "execution_count": 14
        }
      ]
    },
    {
      "cell_type": "code",
      "metadata": {
        "id": "R2YtgSymGxQu",
        "colab_type": "code",
        "outputId": "20ba7af2-5fc9-4f1f-b56a-6f698a001753",
        "colab": {
          "base_uri": "https://localhost:8080/",
          "height": 204
        }
      },
      "source": [
        "y_pred_prob[400]"
      ],
      "execution_count": 0,
      "outputs": [
        {
          "output_type": "execute_result",
          "data": {
            "text/plain": [
              "array([2.10854691e-02, 8.87189388e-01, 1.38685678e-03, 1.55508951e-05,\n",
              "       8.36533681e-02, 5.42247471e-06, 2.03318617e-13, 1.21932274e-07,\n",
              "       1.43346506e-06, 4.22742341e-10, 1.73302694e-09, 1.05259175e-14,\n",
              "       1.70503160e-11, 1.82137833e-10, 4.54968081e-08, 1.19600585e-07,\n",
              "       6.66217785e-03, 4.67107353e-10, 1.76062032e-09, 5.86656645e-21,\n",
              "       4.18275219e-16, 6.59003915e-16, 8.24955303e-20, 4.26932134e-15,\n",
              "       7.23039831e-17, 2.58609236e-12, 1.25436228e-09, 9.55114477e-23,\n",
              "       3.45433182e-14, 2.45695480e-15, 6.50355390e-24, 2.68586673e-15,\n",
              "       2.11135823e-13, 7.36260350e-25, 6.90586986e-19, 6.72859936e-19,\n",
              "       2.36767513e-23, 3.26722482e-24, 7.00417434e-17, 6.47857633e-37,\n",
              "       1.56568835e-25, 9.35454584e-17, 3.03163500e-13], dtype=float32)"
            ]
          },
          "metadata": {
            "tags": []
          },
          "execution_count": 15
        }
      ]
    },
    {
      "cell_type": "code",
      "metadata": {
        "id": "JwULrNZWJ_Ss",
        "colab_type": "code",
        "outputId": "d2dd8097-f599-4a0b-bbad-cb19879435bb",
        "colab": {
          "base_uri": "https://localhost:8080/",
          "height": 283
        }
      },
      "source": [
        "plt.imshow(X_test[400])"
      ],
      "execution_count": 0,
      "outputs": [
        {
          "output_type": "execute_result",
          "data": {
            "text/plain": [
              "<matplotlib.image.AxesImage at 0x7f463020b390>"
            ]
          },
          "metadata": {
            "tags": []
          },
          "execution_count": 16
        },
        {
          "output_type": "display_data",
          "data": {
            "image/png": "[encoded data removed]",
            "text/plain": [
              "<Figure size 432x288 with 1 Axes>"
            ]
          },
          "metadata": {
            "tags": []
          }
        }
      ]
    },
    {
      "cell_type": "code",
      "metadata": {
        "id": "HO3En8i-KJ4p",
        "colab_type": "code",
        "colab": {}
      },
      "source": [
        "df=pd.read_csv('signnames.csv')\n"
      ],
      "execution_count": 0,
      "outputs": []
    },
    {
      "cell_type": "code",
      "metadata": {
        "id": "V186UTEa8qsi",
        "colab_type": "code",
        "outputId": "cee56351-1ead-407a-fd93-80cc5aed80d8",
        "colab": {
          "base_uri": "https://localhost:8080/",
          "height": 204
        }
      },
      "source": [
        "df.head()"
      ],
      "execution_count": 0,
      "outputs": [
        {
          "output_type": "execute_result",
          "data": {
            "text/html": [
              "<div>\n",
              "<style scoped>\n",
              "    .dataframe tbody tr th:only-of-type {\n",
              "        vertical-align: middle;\n",
              "    }\n",
              "\n",
              "    .dataframe tbody tr th {\n",
              "        vertical-align: top;\n",
              "    }\n",
              "\n",
              "    .dataframe thead th {\n",
              "        text-align: right;\n",
              "    }\n",
              "</style>\n",
              "<table border=\"1\" class=\"dataframe\">\n",
              "  <thead>\n",
              "    <tr style=\"text-align: right;\">\n",
              "      <th></th>\n",
              "      <th>a</th>\n",
              "      <th>b</th>\n",
              "    </tr>\n",
              "  </thead>\n",
              "  <tbody>\n",
              "    <tr>\n",
              "      <th>0</th>\n",
              "      <td>0</td>\n",
              "      <td>Speed limit (20km/h)</td>\n",
              "    </tr>\n",
              "    <tr>\n",
              "      <th>1</th>\n",
              "      <td>1</td>\n",
              "      <td>Speed limit (30km/h)</td>\n",
              "    </tr>\n",
              "    <tr>\n",
              "      <th>2</th>\n",
              "      <td>2</td>\n",
              "      <td>Speed limit (50km/h)</td>\n",
              "    </tr>\n",
              "    <tr>\n",
              "      <th>3</th>\n",
              "      <td>3</td>\n",
              "      <td>Speed limit (60km/h)</td>\n",
              "    </tr>\n",
              "    <tr>\n",
              "      <th>4</th>\n",
              "      <td>4</td>\n",
              "      <td>Speed limit (70km/h)</td>\n",
              "    </tr>\n",
              "  </tbody>\n",
              "</table>\n",
              "</div>"
            ],
            "text/plain": [
              "   a                     b\n",
              "0  0  Speed limit (20km/h)\n",
              "1  1  Speed limit (30km/h)\n",
              "2  2  Speed limit (50km/h)\n",
              "3  3  Speed limit (60km/h)\n",
              "4  4  Speed limit (70km/h)"
            ]
          },
          "metadata": {
            "tags": []
          },
          "execution_count": 18
        }
      ]
    },
    {
      "cell_type": "code",
      "metadata": {
        "id": "EpMMk7ax9MBX",
        "colab_type": "code",
        "colab": {}
      },
      "source": [
        "labels_dirt=df.to_dict()['b']"
      ],
      "execution_count": 0,
      "outputs": []
    },
    {
      "cell_type": "code",
      "metadata": {
        "id": "-lzPgRrH9QQZ",
        "colab_type": "code",
        "colab": {}
      },
      "source": [
        "def prediction(model_trained,X_test,y_test,scoring=accuracy_score):\n",
        "  y_test_norm=np.argmax(y_test,axis=1)\n",
        "  y_pred_prob=model_trained.predict(X_test)\n",
        "  y_pred =np.argmax(y_pred_prob,axis=1)\n",
        "\n",
        "  return scoring(y_test_norm,y_pred)"
      ],
      "execution_count": 0,
      "outputs": []
    },
    {
      "cell_type": "code",
      "metadata": {
        "id": "9eCD6ghfZDEo",
        "colab_type": "code",
        "outputId": "bdf84e45-d265-4c66-b8e8-6a47540af6ea",
        "colab": {
          "base_uri": "https://localhost:8080/",
          "height": 34
        }
      },
      "source": [
        "prediction(model_trained,X_test,y_test)"
      ],
      "execution_count": 0,
      "outputs": [
        {
          "output_type": "execute_result",
          "data": {
            "text/plain": [
              "0.8140589569160998"
            ]
          },
          "metadata": {
            "tags": []
          },
          "execution_count": 23
        }
      ]
    },
    {
      "cell_type": "code",
      "metadata": {
        "id": "IDZQR1HUayhm",
        "colab_type": "code",
        "colab": {}
      },
      "source": [
        ""
      ],
      "execution_count": 0,
      "outputs": []
    },
    {
      "cell_type": "code",
      "metadata": {
        "id": "bJ78q7v9Zq9c",
        "colab_type": "code",
        "outputId": "2a6daba0-bd19-4d62-e498-32d6752f64af",
        "colab": {
          "base_uri": "https://localhost:8080/",
          "height": 221
        }
      },
      "source": [
        "def get_cnn_v11(input_shape,num_classes):\n",
        "  return Sequential([\n",
        "        Conv2D(filters=32,kernel_size=(3,3),activation='relu',input_shape=input_shape),\n",
        "        Flatten(),\n",
        "        Dense(num_classes,activation='softmax'),             \n",
        "  ])\n",
        "\n",
        "model=get_cnn_v11(input_shape,num_classes)\n",
        "model_trained=train_model(model,X_train,y_train)\n",
        "prediction(model_trained,X_test,y_test)"
      ],
      "execution_count": 0,
      "outputs": [
        {
          "output_type": "stream",
          "text": [
            "1088/1088 [==============================] - 3s 3ms/step - loss: 14.1227 - accuracy: 0.7610\n",
            "Epoch 1/5\n",
            "272/272 [==============================] - 2s 8ms/step - loss: 0.2327 - accuracy: 0.9479 - val_loss: 0.1327 - val_accuracy: 0.9701\n",
            "Epoch 2/5\n",
            "272/272 [==============================] - 2s 7ms/step - loss: 0.1142 - accuracy: 0.9734 - val_loss: 0.0753 - val_accuracy: 0.9819\n",
            "Epoch 3/5\n",
            "272/272 [==============================] - 2s 7ms/step - loss: 0.0748 - accuracy: 0.9830 - val_loss: 0.0550 - val_accuracy: 0.9872\n",
            "Epoch 4/5\n",
            "272/272 [==============================] - 2s 7ms/step - loss: 0.0523 - accuracy: 0.9874 - val_loss: 0.0409 - val_accuracy: 0.9916\n",
            "Epoch 5/5\n",
            "272/272 [==============================] - 2s 7ms/step - loss: 0.0476 - accuracy: 0.9886 - val_loss: 0.0450 - val_accuracy: 0.9891\n"
          ],
          "name": "stdout"
        },
        {
          "output_type": "execute_result",
          "data": {
            "text/plain": [
              "0.8249433106575964"
            ]
          },
          "metadata": {
            "tags": []
          },
          "execution_count": 25
        }
      ]
    },
    {
      "cell_type": "code",
      "metadata": {
        "id": "fjEIOBOacpdT",
        "colab_type": "code",
        "colab": {}
      },
      "source": [
        "def get_cnn_v12(input_shape,num_classes):\n",
        "  return Sequential([\n",
        "       Conv2D(filters=32,kernel_size=(3,3),activation='relu',input_shape=input_shape),\n",
        "       MaxPool2D(),  \n",
        "\n",
        "       Conv2D(filters=64,kernel_size=(3,3),activation='relu',input_shape=input_shape),\n",
        "       MaxPool2D(),  \n",
        "\n",
        "       Conv2D(filters=132,kernel_size=(3,3),activation='relu',input_shape=input_shape),\n",
        "       MaxPool2D(),  \n",
        "\n",
        "       Flatten(),\n",
        "       Dense(num_classes,activation='softmax')            \n",
        "\n",
        "  ])\n",
        " "
      ],
      "execution_count": 0,
      "outputs": []
    },
    {
      "cell_type": "code",
      "metadata": {
        "id": "tnKKrruXajmu",
        "colab_type": "code",
        "colab": {}
      },
      "source": [
        "def train_and_predict(model):\n",
        "  model_trained=train_model(model,X_train,y_train)\n",
        "  return prediction(model_trained,X_train,y_train)\n",
        "\n",
        "\n",
        "\n"
      ],
      "execution_count": 0,
      "outputs": []
    },
    {
      "cell_type": "code",
      "metadata": {
        "id": "Zoee16b1cR9b",
        "colab_type": "code",
        "outputId": "932f6b77-1f55-4231-c1a2-59a4e735a07d",
        "colab": {
          "base_uri": "https://localhost:8080/",
          "height": 221
        }
      },
      "source": [
        "train_and_predict(get_cnn_v11(input_shape,num_classes))"
      ],
      "execution_count": 0,
      "outputs": [
        {
          "output_type": "stream",
          "text": [
            "1088/1088 [==============================] - 3s 3ms/step - loss: 13.7356 - accuracy: 0.7593\n",
            "Epoch 1/5\n",
            "272/272 [==============================] - 2s 8ms/step - loss: 0.2483 - accuracy: 0.9371 - val_loss: 0.1519 - val_accuracy: 0.9613\n",
            "Epoch 2/5\n",
            "272/272 [==============================] - 2s 7ms/step - loss: 0.1454 - accuracy: 0.9622 - val_loss: 0.1123 - val_accuracy: 0.9733\n",
            "Epoch 3/5\n",
            "272/272 [==============================] - 2s 7ms/step - loss: 0.1060 - accuracy: 0.9726 - val_loss: 0.0854 - val_accuracy: 0.9792\n",
            "Epoch 4/5\n",
            "272/272 [==============================] - 2s 7ms/step - loss: 0.0803 - accuracy: 0.9795 - val_loss: 0.0556 - val_accuracy: 0.9872\n",
            "Epoch 5/5\n",
            "272/272 [==============================] - 2s 7ms/step - loss: 0.0715 - accuracy: 0.9818 - val_loss: 0.0759 - val_accuracy: 0.9807\n"
          ],
          "name": "stdout"
        },
        {
          "output_type": "execute_result",
          "data": {
            "text/plain": [
              "0.9806603638035576"
            ]
          },
          "metadata": {
            "tags": []
          },
          "execution_count": 33
        }
      ]
    },
    {
      "cell_type": "code",
      "metadata": {
        "id": "_-F8cBPCcaL_",
        "colab_type": "code",
        "outputId": "f390a4ff-837e-4663-8e02-f91c0a060273",
        "colab": {
          "base_uri": "https://localhost:8080/",
          "height": 221
        }
      },
      "source": [
        "train_and_predict(get_cnn_v12(input_shape,num_classes))"
      ],
      "execution_count": 0,
      "outputs": [
        {
          "output_type": "stream",
          "text": [
            "1088/1088 [==============================] - 4s 3ms/step - loss: 1.2154 - accuracy: 0.7731\n",
            "Epoch 1/5\n",
            "272/272 [==============================] - 2s 9ms/step - loss: 0.0991 - accuracy: 0.9768 - val_loss: 0.0589 - val_accuracy: 0.9861\n",
            "Epoch 2/5\n",
            "272/272 [==============================] - 2s 8ms/step - loss: 0.0490 - accuracy: 0.9890 - val_loss: 0.0372 - val_accuracy: 0.9924\n",
            "Epoch 3/5\n",
            "272/272 [==============================] - 2s 8ms/step - loss: 0.0337 - accuracy: 0.9926 - val_loss: 0.0275 - val_accuracy: 0.9945\n",
            "Epoch 4/5\n",
            "272/272 [==============================] - 2s 8ms/step - loss: 0.0289 - accuracy: 0.9928 - val_loss: 0.0249 - val_accuracy: 0.9943\n",
            "Epoch 5/5\n",
            "272/272 [==============================] - 2s 8ms/step - loss: 0.0226 - accuracy: 0.9947 - val_loss: 0.0175 - val_accuracy: 0.9963\n"
          ],
          "name": "stdout"
        },
        {
          "output_type": "execute_result",
          "data": {
            "text/plain": [
              "0.996292996925199"
            ]
          },
          "metadata": {
            "tags": []
          },
          "execution_count": 36
        }
      ]
    },
    {
      "cell_type": "code",
      "metadata": {
        "id": "JXBLIUP-dqty",
        "colab_type": "code",
        "outputId": "2f86f6e2-1eb2-44fa-81ee-f767f6e442c6",
        "colab": {
          "base_uri": "https://localhost:8080/",
          "height": 34
        }
      },
      "source": [
        "def get_cnn_v13(input_shape,num_classes):\n",
        "  return Sequential([\n",
        "       Conv2D(filters=32,kernel_size=(3,3),activation='relu',input_shape=input_shape),\n",
        "       MaxPool2D(),  \n",
        "       Dropout(0.3),\n",
        "\n",
        "       Conv2D(filters=64,kernel_size=(3,3),activation='relu',input_shape=input_shape),\n",
        "       MaxPool2D(),  \n",
        "       Dropout(0.3),\n",
        "\n",
        "       Conv2D(filters=132,kernel_size=(3,3),activation='relu',input_shape=input_shape),\n",
        "       MaxPool2D(),  \n",
        "\n",
        "       Flatten(),\n",
        "       Dense(1024,activation='relu'),\n",
        "       Dropout(0.3),\n",
        "\n",
        "       Dense(num_classes,activation='softmax')            \n",
        "\n",
        "  ])"
      ],
      "execution_count": 0,
      "outputs": [
        {
          "output_type": "stream",
          "text": [
            "ERROR! Session/line number was not unique in database. History logging moved to new session 61\n"
          ],
          "name": "stdout"
        }
      ]
    },
    {
      "cell_type": "code",
      "metadata": {
        "id": "7iuP9shRe7ys",
        "colab_type": "code",
        "outputId": "f62b9d63-1599-4a0a-edbd-178385c55be1",
        "colab": {
          "base_uri": "https://localhost:8080/",
          "height": 221
        }
      },
      "source": [
        "train_and_predict(get_cnn_v13(input_shape,num_classes))"
      ],
      "execution_count": 0,
      "outputs": [
        {
          "output_type": "stream",
          "text": [
            "1088/1088 [==============================] - 4s 4ms/step - loss: 2.3019 - accuracy: 0.4793\n",
            "Epoch 1/5\n",
            "272/272 [==============================] - 3s 10ms/step - loss: 0.5178 - accuracy: 0.8434 - val_loss: 0.1884 - val_accuracy: 0.9586\n",
            "Epoch 2/5\n",
            "272/272 [==============================] - 2s 9ms/step - loss: 0.3613 - accuracy: 0.8920 - val_loss: 0.1190 - val_accuracy: 0.9747\n",
            "Epoch 3/5\n",
            "272/272 [==============================] - 2s 9ms/step - loss: 0.2766 - accuracy: 0.9177 - val_loss: 0.0767 - val_accuracy: 0.9842\n",
            "Epoch 4/5\n",
            "272/272 [==============================] - 2s 9ms/step - loss: 0.2243 - accuracy: 0.9324 - val_loss: 0.0666 - val_accuracy: 0.9879\n",
            "Epoch 5/5\n",
            "272/272 [==============================] - 2s 9ms/step - loss: 0.1941 - accuracy: 0.9432 - val_loss: 0.0429 - val_accuracy: 0.9898\n"
          ],
          "name": "stdout"
        },
        {
          "output_type": "execute_result",
          "data": {
            "text/plain": [
              "0.9898272938877554"
            ]
          },
          "metadata": {
            "tags": []
          },
          "execution_count": 38
        }
      ]
    },
    {
      "cell_type": "code",
      "metadata": {
        "id": "JPBdPc_KfK93",
        "colab_type": "code",
        "colab": {}
      },
      "source": [
        "X_train_gray=color.rgb2gray(X_train).reshape(-1,32,32,1)\n",
        "X_test_gray=color.rgb2gray(X_test).reshape(-1,32,32,1)"
      ],
      "execution_count": 0,
      "outputs": []
    },
    {
      "cell_type": "code",
      "metadata": {
        "id": "NmatsqavhZHi",
        "colab_type": "code",
        "outputId": "eb0aea28-6428-455e-c8b9-3ed4b56a52f9",
        "colab": {
          "base_uri": "https://localhost:8080/",
          "height": 221
        }
      },
      "source": [
        "model=get_cnn_v13((32,32,1),num_classes)\n",
        "model_trained=train_model(model,X_train_gray,y_train,params_fit={})\n",
        "prediction(model_trained,X_test_gray,y_test)"
      ],
      "execution_count": 0,
      "outputs": [
        {
          "output_type": "stream",
          "text": [
            "1088/1088 [==============================] - 4s 4ms/step - loss: 1.5849 - accuracy: 0.5481\n",
            "Epoch 1/5\n",
            "272/272 [==============================] - 3s 9ms/step - loss: 0.3006 - accuracy: 0.9058 - val_loss: 0.1180 - val_accuracy: 0.9718\n",
            "Epoch 2/5\n",
            "272/272 [==============================] - 2s 8ms/step - loss: 0.2069 - accuracy: 0.9376 - val_loss: 0.0718 - val_accuracy: 0.9855\n",
            "Epoch 3/5\n",
            "272/272 [==============================] - 2s 9ms/step - loss: 0.1612 - accuracy: 0.9495 - val_loss: 0.0530 - val_accuracy: 0.9890\n",
            "Epoch 4/5\n",
            "272/272 [==============================] - 2s 9ms/step - loss: 0.1298 - accuracy: 0.9598 - val_loss: 0.0366 - val_accuracy: 0.9941\n",
            "Epoch 5/5\n",
            "272/272 [==============================] - 2s 9ms/step - loss: 0.0993 - accuracy: 0.9696 - val_loss: 0.0311 - val_accuracy: 0.9934\n"
          ],
          "name": "stdout"
        },
        {
          "output_type": "execute_result",
          "data": {
            "text/plain": [
              "0.9383219954648526"
            ]
          },
          "metadata": {
            "tags": []
          },
          "execution_count": 42
        }
      ]
    },
    {
      "cell_type": "code",
      "metadata": {
        "id": "12QILB-cjD-W",
        "colab_type": "code",
        "colab": {}
      },
      "source": [
        ""
      ],
      "execution_count": 0,
      "outputs": []
    }
  ]
}